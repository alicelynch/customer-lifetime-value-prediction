{
 "cells": [
  {
   "cell_type": "markdown",
   "metadata": {},
   "source": [
    "## 1. Read in Raw Transactional Data "
   ]
  },
  {
   "cell_type": "markdown",
   "metadata": {},
   "source": [
    "#### This dataset is a log of every item a customer has purchased, with one row per item, including financial / profit information "
   ]
  },
  {
   "cell_type": "code",
   "execution_count": 2,
   "metadata": {},
   "outputs": [
    {
     "name": "stdout",
     "output_type": "stream",
     "text": [
      "root\n",
      " |-- customer_id: string (nullable = true)\n",
      " |-- order_number: string (nullable = true)\n",
      " |-- order_date: timestamp (nullable = true)\n",
      " |-- item_id: string (nullable = true)\n",
      " |-- item colour: string (nullable = true)\n",
      " |-- item size: string (nullable = true)\n",
      " |-- flag_coupon_used: boolean (nullable = true)\n",
      " |-- item_full_price: double (nullable = true)\n",
      " |-- item_sale_price: double (nullable = true)\n",
      " |-- item_cost_price: double (nullable = true)\n",
      " |-- shipping_cost: double (nullable = true)\n",
      " |-- profit: double (nullable = true)\n",
      " |-- country: string (nullable = true)\n",
      " |-- gender: string (nullable = true)\n",
      "\n"
     ]
    },
    {
     "data": {
      "text/plain": [
       "transactions = [customer_id: string, order_number: string ... 12 more fields]\n"
      ]
     },
     "metadata": {},
     "output_type": "display_data"
    },
    {
     "data": {
      "text/plain": [
       "[customer_id: string, order_number: string ... 12 more fields]"
      ]
     },
     "execution_count": 2,
     "metadata": {},
     "output_type": "execute_result"
    }
   ],
   "source": [
    "val transactions = spark.read.format(\"csv\")\n",
    "                        .option(\"header\", \"true\")\n",
    "                        .option(\"inferSchema\", \"true\")\n",
    "                        .load(\"/Users/alynch/Downloads/MOCK_DATA.csv\")\n",
    "transactions.printSchema()"
   ]
  },
  {
   "cell_type": "code",
   "execution_count": 3,
   "metadata": {},
   "outputs": [
    {
     "name": "stdout",
     "output_type": "stream",
     "text": [
      "+--------------------+--------------------+-------------------+--------------------+-----------+---------+----------------+---------------+---------------+---------------+-------------+------+-------+------+\n",
      "|         customer_id|        order_number|         order_date|             item_id|item colour|item size|flag_coupon_used|item_full_price|item_sale_price|item_cost_price|shipping_cost|profit|country|gender|\n",
      "+--------------------+--------------------+-------------------+--------------------+-----------+---------+----------------+---------------+---------------+---------------+-------------+------+-------+------+\n",
      "|1bd7c236ee84a9a1d...|2d76e544c70646e22...|2018-05-26 00:00:00|2521d69949def3e60...|     Violet|        L|           false|           41.7|          45.45|          -0.91|        -2.18|  0.84|     AR|     M|\n",
      "|02c0b659d2110a255...|7bdad59db3a90d67a...|2018-04-24 00:00:00|7815849e9059cf629...|        Red|      2XL|            true|          31.38|          50.08|          -1.56|        -1.07|  0.98|     PH|     M|\n",
      "|f3c6fb8c4a135638c...|76a496cd9c3e04666...|2018-09-01 00:00:00|8a707a7fff91fd299...|       Blue|        L|           false|          48.77|          56.27|           0.64|         0.51|  0.58|     IE|     F|\n",
      "|fbbd444bce76011ea...|d1e23fbf64fb66fc8...|2018-01-24 00:00:00|4cae7b5e1f403d27f...|     Maroon|       XS|            true|          28.99|          74.55|          -0.63|        -0.65|   0.3|     PL|     M|\n",
      "|002ebb6354ef63b60...|1eabd5ef536d57f25...|2015-08-23 00:00:00|85a6839b8bf40518a...|     Purple|        S|            true|          60.43|          42.25|          -0.76|         0.39| -0.17|     MY|     M|\n",
      "+--------------------+--------------------+-------------------+--------------------+-----------+---------+----------------+---------------+---------------+---------------+-------------+------+-------+------+\n",
      "only showing top 5 rows\n",
      "\n"
     ]
    }
   ],
   "source": [
    "transactions.show(5)"
   ]
  },
  {
   "cell_type": "code",
   "execution_count": 4,
   "metadata": {},
   "outputs": [
    {
     "name": "stdout",
     "output_type": "stream",
     "text": [
      "+-------------------+-------------------+\n",
      "|min(order_date)    |max(order_date)    |\n",
      "+-------------------+-------------------+\n",
      "|2012-11-06 00:00:00|2018-10-30 00:00:00|\n",
      "+-------------------+-------------------+\n",
      "\n"
     ]
    }
   ],
   "source": [
    "import org.apache.spark.sql.functions._\n",
    "transactions.select(min(\"order_date\"), max(\"order_date\")).show(truncate=false)"
   ]
  },
  {
   "cell_type": "markdown",
   "metadata": {},
   "source": [
    "## 2. Feature Engineering & Label Generation"
   ]
  },
  {
   "cell_type": "markdown",
   "metadata": {},
   "source": [
    "### - Aggregate the dataset into one row per order"
   ]
  },
  {
   "cell_type": "code",
   "execution_count": 5,
   "metadata": {},
   "outputs": [
    {
     "name": "stdout",
     "output_type": "stream",
     "text": [
      "root\n",
      " |-- order_number: string (nullable = true)\n",
      " |-- order_date: timestamp (nullable = true)\n",
      " |-- customer_id: string (nullable = true)\n",
      " |-- full_price_per_order: double (nullable = true)\n",
      " |-- sale_price_per_order: double (nullable = true)\n",
      " |-- item_cost_price_per_order: double (nullable = true)\n",
      " |-- profit_per_order: double (nullable = true)\n",
      " |-- coupon_used_in_order: boolean (nullable = true)\n",
      " |-- item_full_price_with_coupon_per_order: double (nullable = true)\n",
      " |-- items_per_order: long (nullable = false)\n",
      "\n"
     ]
    },
    {
     "data": {
      "text/plain": [
       "aggregatedOrderDF = [order_number: string, order_date: timestamp ... 8 more fields]\n"
      ]
     },
     "metadata": {},
     "output_type": "display_data"
    },
    {
     "data": {
      "text/plain": [
       "getOrderLevelAggregations: (transactionData: org.apache.spark.sql.Dataset[org.apache.spark.sql.Row])org.apache.spark.sql.DataFrame\n"
      ]
     },
     "metadata": {},
     "output_type": "display_data"
    },
    {
     "data": {
      "text/plain": [
       "[order_number: string, order_date: timestamp ... 8 more fields]"
      ]
     },
     "execution_count": 5,
     "metadata": {},
     "output_type": "execute_result"
    }
   ],
   "source": [
    "import org.joda.time.{DateTime, DateTimeZone}\n",
    "import org.joda.time.format.{DateTimeFormat, DateTimeFormatter}\n",
    "import org.apache.spark.sql.{Column, DataFrame, Dataset, Row}\n",
    "\n",
    "def getOrderLevelAggregations(transactionData: Dataset[Row]) = {\n",
    "    //aggregate the item-level transaction events into order level so that we could extract order_level features\n",
    "    //such as average_spend in orders, etc.\n",
    "    transactionData.groupBy(\"order_number\").agg(\n",
    "      first(\"order_date\") as \"order_date\",\n",
    "      first(\"customer_id\") as \"customer_id\",\n",
    "      sum(\"item_full_price\") as \"full_price_per_order\",\n",
    "      sum(\"item_sale_price\") as \"sale_price_per_order\",\n",
    "      sum(\"item_cost_price\") as \"item_cost_price_per_order\",\n",
    "      sum(\"profit\") as \"profit_per_order\",\n",
    "      max(\"flag_coupon_used\") as \"coupon_used_in_order\",\n",
    "      sum(when(col(\"flag_coupon_used\") === true, col(\"item_full_price\")).otherwise(0)) as \"item_full_price_with_coupon_per_order\",\n",
    "      count(\"*\") as \"items_per_order\"\n",
    "    )\n",
    "  }\n",
    "val aggregatedOrderDF: DataFrame = getOrderLevelAggregations(transactions)\n",
    "aggregatedOrderDF.printSchema()"
   ]
  },
  {
   "cell_type": "markdown",
   "metadata": {},
   "source": [
    "### - Split the feature and target time frames using a cut-off date "
   ]
  },
  {
   "cell_type": "code",
   "execution_count": 33,
   "metadata": {},
   "outputs": [
    {
     "data": {
      "text/plain": [
       "DateFormatterPattern = yyyy-MM-dd\n",
       "dateFormatter = org.joda.time.format.DateTimeFormatter@1edd9769\n",
       "cutOffDateString = 2017-11-01\n",
       "cutOffDate = 2017-11-01T00:00:00.000Z\n",
       "featureTimeFrameFilter = (order_date < 2017-11-01)\n",
       "labelTimeFrameFilter = ((order_date < 2018-11-01) AND (order_date >= 2017-11-01))\n"
      ]
     },
     "metadata": {},
     "output_type": "display_data"
    },
    {
     "data": {
      "text/plain": [
       "((order_date < 2018-11-01) AND (order_date >= 2017-11-01))"
      ]
     },
     "execution_count": 33,
     "metadata": {},
     "output_type": "execute_result"
    }
   ],
   "source": [
    "\n",
    "val DateFormatterPattern: String = \"yyyy-MM-dd\"\n",
    "val dateFormatter: DateTimeFormatter = DateTimeFormat.forPattern(DateFormatterPattern)\n",
    "\n",
    "val cutOffDateString = \"2017-11-01\"\n",
    "val cutOffDate = DateTimeFormat.forPattern(\"yyyy-MM-dd\").withZone(DateTimeZone.UTC).parseDateTime(cutOffDateString).withTimeAtStartOfDay()\n",
    "\n",
    "val featureTimeFrameFilter: Column = col(\"order_date\").lt(dateFormatter.print(cutOffDate))\n",
    "val labelTimeFrameFilter: Column = col(\"order_date\").lt(dateFormatter.print(cutOffDate.plusMonths(12))) \n",
    "          .and(col(\"order_date\").geq(dateFormatter.print(cutOffDate)))"
   ]
  },
  {
   "cell_type": "markdown",
   "metadata": {},
   "source": [
    "### - And then aggregate into one row per customer, aggregating features over many time frames\n",
    "### - Make feature engineering easy by automatically generating filters & aggregations in a functional way"
   ]
  },
  {
   "cell_type": "code",
   "execution_count": 44,
   "metadata": {},
   "outputs": [
    {
     "data": {
      "text/plain": [
       "getFilterByMonths: (cutOffDate: org.joda.time.DateTime, numOfMonths: Int, dateFormatter: org.joda.time.format.DateTimeFormatter)org.apache.spark.sql.Column\n",
       "getTimeFilters: (cutOffDate: org.joda.time.DateTime, dateFormatter: org.joda.time.format.DateTimeFormatter)List[(org.apache.spark.sql.Column, String)]\n",
       "getTimePeriodAggregations: (timeFilter: org.apache.spark.sql.Column, labelSuffix: String)List[org.apache.spark.sql.Column]\n"
      ]
     },
     "metadata": {},
     "output_type": "display_data"
    }
   ],
   "source": [
    "// Many time frames \n",
    "\n",
    "def getFilterByMonths(cutOffDate: DateTime, numOfMonths: Int, dateFormatter: DateTimeFormatter) = {\n",
    "    val nMonthsBeforeFilter: Column = \n",
    "    col(\"order_date\").lt(dateFormatter.print(cutOffDate))\n",
    "    .and(col(\"order_date\").geq(dateFormatter.print(cutOffDate.minusMonths(numOfMonths))))\n",
    "    nMonthsBeforeFilter\n",
    "  }\n",
    "\n",
    "def getTimeFilters(cutOffDate: DateTime, dateFormatter: DateTimeFormatter) = {\n",
    "    val filters = List(\n",
    "      (getFilterByMonths(cutOffDate, 1, dateFormatter), \"1M\"),\n",
    "      (getFilterByMonths(cutOffDate, 3, dateFormatter), \"3M\"),\n",
    "      (getFilterByMonths(cutOffDate, 6, dateFormatter), \"6M\"),\n",
    "      (getFilterByMonths(cutOffDate, 12, dateFormatter), \"12M\")\n",
    "    )\n",
    "    filters\n",
    "  }\n",
    "\n",
    "// with the time filter, make various aggregations\n",
    "def getTimePeriodAggregations(timeFilter: Column, labelSuffix: String) = {\n",
    "    //Note that these aggregations are applied on the transaction data after Order Level Aggregations\n",
    "    List(\n",
    "      sum(when(timeFilter, col(\"profit_per_order\")).otherwise(0)) as s\"SumProfit$labelSuffix\", \n",
    "      avg(when(timeFilter, col(\"profit_per_order\")).otherwise(0)) as  s\"AvgProfit$labelSuffix\", \n",
    "      sum(when(timeFilter, col(\"full_price_per_order\")).otherwise(0)) as s\"TotalSpendBeforeDiscount$labelSuffix\", \n",
    "      sum(when(timeFilter, col(\"sale_price_per_order\")).otherwise(0)) as s\"TotalSpendBeforeCoupon$labelSuffix\", \n",
    "      count(when(timeFilter, col(\"order_number\"))) as s\"NumberOrders$labelSuffix\", \n",
    "      sum(when(timeFilter, col(\"items_per_order\")).otherwise(0)) as s\"NumberItems$labelSuffix\", \n",
    "      avg(when(timeFilter, col(\"items_per_order\")).otherwise(0)) as s\"AvgNumberItems$labelSuffix\", \n",
    "      sum(when(timeFilter, col(\"item_full_price_with_coupon_per_order\")).otherwise(0)) as s\"FullPriceWithCoupon$labelSuffix\", \n",
    "      sum(when(timeFilter && col(\"coupon_used_in_order\"), 1).otherwise(0)) as s\"NumberOrdersWithCoupon$labelSuffix\" \n",
    "    )\n",
    "  }\n"
   ]
  },
  {
   "cell_type": "markdown",
   "metadata": {},
   "source": [
    "### Apply large list of filters in a functional way "
   ]
  },
  {
   "cell_type": "code",
   "execution_count": 35,
   "metadata": {},
   "outputs": [
    {
     "data": {
      "text/plain": [
       "filterBasedAggregations = List(sum(CASE WHEN ((order_date < 2017-11-01) AND (order_date >= 2017-10-01)) THEN profit_per_order ELSE 0 END) AS `SumProfit1M`, avg(CASE WHEN ((order_date < 2017-11-01) AND (order_date >= 2017-10-01)) THEN profit_per_order ELSE 0 END) AS `AvgProfit1M`, sum(CASE WHEN ((order_date < 2017-11-01) AND (order_date >= 2017-10-01)) THEN full_price_per_order ELSE 0 END) AS `TotalSpendBeforeDiscount1M`, sum(CASE WHEN ((order_date < 2017-11-01) AND (order_date >= 2017-10-01)) THEN sale_price_per_order ELSE 0 END) AS `TotalSpendBeforeCoupon1M`, count(CASE WHEN ((order_date < 2017-11-01) AND (order_date >= 2017-10-01)) THEN 1 END) AS `NumberOrders1M`, sum(CASE WHEN ((order_date < 2017-11-01) AND (order_date >= 2017-10-01)) THEN items_per...\n"
      ]
     },
     "metadata": {},
     "output_type": "display_data"
    },
    {
     "data": {
      "text/plain": [
       "List(sum(CASE WHEN ((order_date < 2017-11-01) AND (order_date >= 2017-10-01)) THEN profit_per_order ELSE 0 END) AS `SumProfit1M`, avg(CASE WHEN ((order_date < 2017-11-01) AND (order_date >= 2017-10-01)) THEN profit_per_order ELSE 0 END) AS `AvgProfit1M`, sum(CASE WHEN ((order_date < 2017-11-01) AND (order_date >= 2017-10-01)) THEN full_price_per_order ELSE 0 END) AS `TotalSpendBeforeDiscount1M`, sum(CASE WHEN ((order_date < 2017-11-01) AND (order_date >= 2017-10-01)) THEN sale_price_per_order ELSE 0 END) AS `TotalSpendBeforeCoupon1M`, count(CASE WHEN ((order_date < 2017-11-01) AND (order_date >= 2017-10-01)) THEN 1 END) AS `NumberOrders1M`, sum(CASE WHEN ((order_date < 2017-11-01) AND (order_date >= 2017-10-01)) THEN items_per_order ELSE 0 END) AS `NumberItems1M`, avg(CASE WHEN ((order_date < 2017-11-01) AND (order_date >= 2017-10-01)) THEN items_per_order ELSE 0 END) AS `AvgNumberItems1M`, sum(CASE WHEN ((order_date < 2017-11-01) AND (order_date >= 2017-10-01)) THEN item_full_price_with_coupon_per_order ELSE 0 END) AS `FullPriceWithCoupon1M`, sum(CASE WHEN (((order_date < 2017-11-01) AND (order_date >= 2017-10-01)) AND coupon_used_in_order) THEN 1 ELSE 0 END) AS `NumberOrdersWithCoupon1M`, sum(CASE WHEN ((order_date < 2017-11-01) AND (order_date >= 2017-08-01)) THEN profit_per_order ELSE 0 END) AS `SumProfit3M`, avg(CASE WHEN ((order_date < 2017-11-01) AND (order_date >= 2017-08-01)) THEN profit_per_order ELSE 0 END) AS `AvgProfit3M`, sum(CASE WHEN ((order_date < 2017-11-01) AND (order_date >= 2017-08-01)) THEN full_price_per_order ELSE 0 END) AS `TotalSpendBeforeDiscount3M`, sum(CASE WHEN ((order_date < 2017-11-01) AND (order_date >= 2017-08-01)) THEN sale_price_per_order ELSE 0 END) AS `TotalSpendBeforeCoupon3M`, count(CASE WHEN ((order_date < 2017-11-01) AND (order_date >= 2017-08-01)) THEN 1 END) AS `NumberOrders3M`, sum(CASE WHEN ((order_date < 2017-11-01) AND (order_date >= 2017-08-01)) THEN items_per_order ELSE 0 END) AS `NumberItems3M`, avg(CASE WHEN ((order_date < 2017-11-01) AND (order_date >= 2017-08-01)) THEN items_per_order ELSE 0 END) AS `AvgNumberItems3M`, sum(CASE WHEN ((order_date < 2017-11-01) AND (order_date >= 2017-08-01)) THEN item_full_price_with_coupon_per_order ELSE 0 END) AS `FullPriceWithCoupon3M`, sum(CASE WHEN (((order_date < 2017-11-01) AND (order_date >= 2017-08-01)) AND coupon_used_in_order) THEN 1 ELSE 0 END) AS `NumberOrdersWithCoupon3M`, sum(CASE WHEN ((order_date < 2017-11-01) AND (order_date >= 2017-05-01)) THEN profit_per_order ELSE 0 END) AS `SumProfit6M`, avg(CASE WHEN ((order_date < 2017-11-01) AND (order_date >= 2017-05-01)) THEN profit_per_order ELSE 0 END) AS `AvgProfit6M`, sum(CASE WHEN ((order_date < 2017-11-01) AND (order_date >= 2017-05-01)) THEN full_price_per_order ELSE 0 END) AS `TotalSpendBeforeDiscount6M`, sum(CASE WHEN ((order_date < 2017-11-01) AND (order_date >= 2017-05-01)) THEN sale_price_per_order ELSE 0 END) AS `TotalSpendBeforeCoupon6M`, count(CASE WHEN ((order_date < 2017-11-01) AND (order_date >= 2017-05-01)) THEN 1 END) AS `NumberOrders6M`, sum(CASE WHEN ((order_date < 2017-11-01) AND (order_date >= 2017-05-01)) THEN items_per_order ELSE 0 END) AS `NumberItems6M`, avg(CASE WHEN ((order_date < 2017-11-01) AND (order_date >= 2017-05-01)) THEN items_per_order ELSE 0 END) AS `AvgNumberItems6M`, sum(CASE WHEN ((order_date < 2017-11-01) AND (order_date >= 2017-05-01)) THEN item_full_price_with_coupon_per_order ELSE 0 END) AS `FullPriceWithCoupon6M`, sum(CASE WHEN (((order_date < 2017-11-01) AND (order_date >= 2017-05-01)) AND coupon_used_in_order) THEN 1 ELSE 0 END) AS `NumberOrdersWithCoupon6M`, sum(CASE WHEN ((order_date < 2017-11-01) AND (order_date >= 2016-11-01)) THEN profit_per_order ELSE 0 END) AS `SumProfit12M`, avg(CASE WHEN ((order_date < 2017-11-01) AND (order_date >= 2016-11-01)) THEN profit_per_order ELSE 0 END) AS `AvgProfit12M`, sum(CASE WHEN ((order_date < 2017-11-01) AND (order_date >= 2016-11-01)) THEN full_price_per_order ELSE 0 END) AS `TotalSpendBeforeDiscount12M`, sum(CASE WHEN ((order_date < 2017-11-01) AND (order_date >= 2016-11-01)) THEN sale_price_per_order ELSE 0 END) AS `TotalSpendBeforeCoupon12M`, count(CASE WHEN ((order_date < 2017-11-01) AND (order_date >= 2016-11-01)) THEN 1 END) AS `NumberOrders12M`, sum(CASE WHEN ((order_date < 2017-11-01) AND (order_date >= 2016-11-01)) THEN items_per_order ELSE 0 END) AS `NumberItems12M`, avg(CASE WHEN ((order_date < 2017-11-01) AND (order_date >= 2016-11-01)) THEN items_per_order ELSE 0 END) AS `AvgNumberItems12M`, sum(CASE WHEN ((order_date < 2017-11-01) AND (order_date >= 2016-11-01)) THEN item_full_price_with_coupon_per_order ELSE 0 END) AS `FullPriceWithCoupon12M`, sum(CASE WHEN (((order_date < 2017-11-01) AND (order_date >= 2016-11-01)) AND coupon_used_in_order) THEN 1 ELSE 0 END) AS `NumberOrdersWithCoupon12M`)"
      ]
     },
     "execution_count": 35,
     "metadata": {},
     "output_type": "execute_result"
    }
   ],
   "source": [
    "val filters: List[(Column, String)] = getTimeFilters(cutOffDate, dateFormatter)\n",
    "val filterBasedAggregations = filters.map(filterWithLabel => \n",
    "                                          getTimePeriodAggregations(filterWithLabel._1, filterWithLabel._2)).flatten\n",
    "\n",
    "val aggregationColumns = filterBasedAggregations ++ List(\n",
    "      //the label value to predict for the next 12 months\n",
    "      sum(when(labelTimeFrameFilter, col(\"profit_per_order\")).otherwise(0)) as \"sum_profit\")\n"
   ]
  },
  {
   "cell_type": "code",
   "execution_count": 37,
   "metadata": {},
   "outputs": [
    {
     "data": {
      "text/plain": [
       "featuresAndLabels = [customer_id: string, SumProfit1M: double ... 36 more fields]\n"
      ]
     },
     "metadata": {},
     "output_type": "display_data"
    },
    {
     "data": {
      "text/plain": [
       "[customer_id: string, SumProfit1M: double ... 36 more fields]"
      ]
     },
     "execution_count": 37,
     "metadata": {},
     "output_type": "execute_result"
    }
   ],
   "source": [
    "val featuresAndLabels = aggregatedOrderDF.groupBy(\"customer_id\").agg(aggregationColumns.head, aggregationColumns.tail: _*)"
   ]
  },
  {
   "cell_type": "code",
   "execution_count": 38,
   "metadata": {},
   "outputs": [
    {
     "name": "stdout",
     "output_type": "stream",
     "text": [
      "root\n",
      " |-- customer_id: string (nullable = true)\n",
      " |-- SumProfit1M: double (nullable = true)\n",
      " |-- AvgProfit1M: double (nullable = true)\n",
      " |-- TotalSpendBeforeDiscount1M: double (nullable = true)\n",
      " |-- TotalSpendBeforeCoupon1M: double (nullable = true)\n",
      " |-- NumberOrders1M: long (nullable = false)\n",
      " |-- NumberItems1M: long (nullable = true)\n",
      " |-- AvgNumberItems1M: double (nullable = true)\n",
      " |-- FullPriceWithCoupon1M: double (nullable = true)\n",
      " |-- NumberOrdersWithCoupon1M: long (nullable = true)\n",
      " |-- SumProfit3M: double (nullable = true)\n",
      " |-- AvgProfit3M: double (nullable = true)\n",
      " |-- TotalSpendBeforeDiscount3M: double (nullable = true)\n",
      " |-- TotalSpendBeforeCoupon3M: double (nullable = true)\n",
      " |-- NumberOrders3M: long (nullable = false)\n",
      " |-- NumberItems3M: long (nullable = true)\n",
      " |-- AvgNumberItems3M: double (nullable = true)\n",
      " |-- FullPriceWithCoupon3M: double (nullable = true)\n",
      " |-- NumberOrdersWithCoupon3M: long (nullable = true)\n",
      " |-- SumProfit6M: double (nullable = true)\n",
      " |-- AvgProfit6M: double (nullable = true)\n",
      " |-- TotalSpendBeforeDiscount6M: double (nullable = true)\n",
      " |-- TotalSpendBeforeCoupon6M: double (nullable = true)\n",
      " |-- NumberOrders6M: long (nullable = false)\n",
      " |-- NumberItems6M: long (nullable = true)\n",
      " |-- AvgNumberItems6M: double (nullable = true)\n",
      " |-- FullPriceWithCoupon6M: double (nullable = true)\n",
      " |-- NumberOrdersWithCoupon6M: long (nullable = true)\n",
      " |-- SumProfit12M: double (nullable = true)\n",
      " |-- AvgProfit12M: double (nullable = true)\n",
      " |-- TotalSpendBeforeDiscount12M: double (nullable = true)\n",
      " |-- TotalSpendBeforeCoupon12M: double (nullable = true)\n",
      " |-- NumberOrders12M: long (nullable = false)\n",
      " |-- NumberItems12M: long (nullable = true)\n",
      " |-- AvgNumberItems12M: double (nullable = true)\n",
      " |-- FullPriceWithCoupon12M: double (nullable = true)\n",
      " |-- NumberOrdersWithCoupon12M: long (nullable = true)\n",
      " |-- sum_profit: double (nullable = true)\n",
      "\n"
     ]
    }
   ],
   "source": [
    "featuresAndLabels.printSchema()"
   ]
  },
  {
   "cell_type": "code",
   "execution_count": 39,
   "metadata": {},
   "outputs": [
    {
     "name": "stdout",
     "output_type": "stream",
     "text": [
      "[Stage 1050:==================================================> (195 + 4) / 200]+--------------------+-----------+-----------+--------------------------+------------------------+--------------+-------------+----------------+---------------------+------------------------+-----------+-----------+--------------------------+------------------------+--------------+-------------+----------------+---------------------+------------------------+-----------+-----------+--------------------------+------------------------+--------------+-------------+----------------+---------------------+------------------------+------------+------------+---------------------------+-------------------------+---------------+--------------+-----------------+----------------------+-------------------------+----------+\n",
      "|         customer_id|SumProfit1M|AvgProfit1M|TotalSpendBeforeDiscount1M|TotalSpendBeforeCoupon1M|NumberOrders1M|NumberItems1M|AvgNumberItems1M|FullPriceWithCoupon1M|NumberOrdersWithCoupon1M|SumProfit3M|AvgProfit3M|TotalSpendBeforeDiscount3M|TotalSpendBeforeCoupon3M|NumberOrders3M|NumberItems3M|AvgNumberItems3M|FullPriceWithCoupon3M|NumberOrdersWithCoupon3M|SumProfit6M|AvgProfit6M|TotalSpendBeforeDiscount6M|TotalSpendBeforeCoupon6M|NumberOrders6M|NumberItems6M|AvgNumberItems6M|FullPriceWithCoupon6M|NumberOrdersWithCoupon6M|SumProfit12M|AvgProfit12M|TotalSpendBeforeDiscount12M|TotalSpendBeforeCoupon12M|NumberOrders12M|NumberItems12M|AvgNumberItems12M|FullPriceWithCoupon12M|NumberOrdersWithCoupon12M|sum_profit|\n",
      "+--------------------+-----------+-----------+--------------------------+------------------------+--------------+-------------+----------------+---------------------+------------------------+-----------+-----------+--------------------------+------------------------+--------------+-------------+----------------+---------------------+------------------------+-----------+-----------+--------------------------+------------------------+--------------+-------------+----------------+---------------------+------------------------+------------+------------+---------------------------+-------------------------+---------------+--------------+-----------------+----------------------+-------------------------+----------+\n",
      "|1cc4691e58287bfd8...|        0.0|        0.0|                       0.0|                     0.0|             0|            0|             0.0|                  0.0|                       0|        0.0|        0.0|                       0.0|                     0.0|             0|            0|             0.0|                  0.0|                       0|        0.0|        0.0|                       0.0|                     0.0|             0|            0|             0.0|                  0.0|                       0|         0.0|         0.0|                        0.0|                      0.0|              0|             0|              0.0|                   0.0|                        0|       0.0|\n",
      "|814f333538ba85bf8...|        0.0|        0.0|                       0.0|                     0.0|             0|            0|             0.0|                  0.0|                       0|        0.0|        0.0|                       0.0|                     0.0|             0|            0|             0.0|                  0.0|                       0|        0.0|        0.0|                       0.0|                     0.0|             0|            0|             0.0|                  0.0|                       0|         0.0|         0.0|                        0.0|                      0.0|              0|             0|              0.0|                   0.0|                        0|       0.0|\n",
      "|f93d387371a67962d...|        0.0|        0.0|                       0.0|                     0.0|             0|            0|             0.0|                  0.0|                       0|        0.0|        0.0|                       0.0|                     0.0|             0|            0|             0.0|                  0.0|                       0|        0.0|        0.0|                       0.0|                     0.0|             0|            0|             0.0|                  0.0|                       0|         0.0|         0.0|                        0.0|                      0.0|              0|             0|              0.0|                   0.0|                        0|       0.0|\n",
      "|f34b80fd23b45bcf1...|        0.0|        0.0|                       0.0|                     0.0|             0|            0|             0.0|                  0.0|                       0|        0.0|        0.0|                       0.0|                     0.0|             0|            0|             0.0|                  0.0|                       0|        0.0|        0.0|                       0.0|                     0.0|             0|            0|             0.0|                  0.0|                       0|         0.0|         0.0|                        0.0|                      0.0|              0|             0|              0.0|                   0.0|                        0|       0.0|\n",
      "|fcadba0700b58b9c4...|        0.0|        0.0|                       0.0|                     0.0|             0|            0|             0.0|                  0.0|                       0|        0.0|        0.0|                       0.0|                     0.0|             0|            0|             0.0|                  0.0|                       0|       0.04|       0.04|                     57.66|                   30.22|             1|            1|             1.0|                57.66|                       1|        0.04|        0.04|                      57.66|                    30.22|              1|             1|              1.0|                 57.66|                        1|       0.0|\n",
      "+--------------------+-----------+-----------+--------------------------+------------------------+--------------+-------------+----------------+---------------------+------------------------+-----------+-----------+--------------------------+------------------------+--------------+-------------+----------------+---------------------+------------------------+-----------+-----------+--------------------------+------------------------+--------------+-------------+----------------+---------------------+------------------------+------------+------------+---------------------------+-------------------------+---------------+--------------+-----------------+----------------------+-------------------------+----------+\n",
      "only showing top 5 rows\n",
      "\n"
     ]
    }
   ],
   "source": [
    "featuresAndLabels.show(5)"
   ]
  },
  {
   "cell_type": "markdown",
   "metadata": {},
   "source": [
    "## 3. Modelling "
   ]
  },
  {
   "cell_type": "code",
   "execution_count": 45,
   "metadata": {},
   "outputs": [],
   "source": [
    "import org.apache.spark.ml.{Pipeline, PipelineModel}\n",
    "import org.apache.spark.ml.feature.{Binarizer, StandardScaler, VectorAssembler}\n",
    "import org.apache.spark.ml.param.ParamMap\n",
    "import org.apache.spark.ml.regression.{LinearRegression, LinearRegressionModel}\n",
    "import org.apache.spark.ml.tuning._\n",
    "import org.apache.spark.mllib.linalg.Vectors\n",
    "import org.apache.spark.mllib.stat.Statistics\n",
    "import org.apache.spark.ml.evaluation.RegressionEvaluator"
   ]
  },
  {
   "cell_type": "code",
   "execution_count": 46,
   "metadata": {},
   "outputs": [
    {
     "data": {
      "text/plain": [
       "labelName = sum_profit\n",
       "identifierName = customer_id\n",
       "featureList = Array(SumProfit1M, AvgProfit1M, TotalSpendBeforeDiscount1M, TotalSpendBeforeCoupon1M, NumberOrders1M, NumberItems1M, AvgNumberItems1M, FullPriceWithCoupon1M, NumberOrdersWithCoupon1M, SumProfit3M, AvgProfit3M, TotalSpendBeforeDiscount3M, TotalSpendBeforeCoupon3M, NumberOrders3M, NumberItems3M, AvgNumberItems3M, FullPriceWithCoupon3M, NumberOrdersWithCoupon3M, SumProfit6M, AvgProfit6M, TotalSpendBeforeDiscount6M, TotalSpendBeforeCoupon6M, NumberOrders6M, NumberItems6M, AvgNumberItems6M, FullPriceWithCoupon6M, NumberOrdersWithCoupon6M, SumProfit12M, AvgProfit12M, TotalSpendBeforeDiscount12M, TotalSpendBeforeCoupon12M, NumberOrders12M, NumberItems12M, AvgNumberItems12M, FullPriceWithCoupon12M, ...\n"
      ]
     },
     "metadata": {},
     "output_type": "display_data"
    },
    {
     "data": {
      "text/plain": [
       "[SumProfit1M, AvgProfit1M, TotalSpendBeforeDiscount1M, TotalSpendBeforeCoupon1M, NumberOrders1M, NumberItems1M, AvgNumberItems1M, FullPriceWithCoupon1M, NumberOrdersWithCoupon1M, SumProfit3M, AvgProfit3M, TotalSpendBeforeDiscount3M, TotalSpendBeforeCoupon3M, NumberOrders3M, NumberItems3M, AvgNumberItems3M, FullPriceWithCoupon3M, NumberOrdersWithCoupon3M, SumProfit6M, AvgProfit6M, TotalSpendBeforeDiscount6M, TotalSpendBeforeCoupon6M, NumberOrders6M, NumberItems6M, AvgNumberItems6M, FullPriceWithCoupon6M, NumberOrdersWithCoupon6M, SumProfit12M, AvgProfit12M, TotalSpendBeforeDiscount12M, TotalSpendBeforeCoupon12M, NumberOrders12M, NumberItems12M, AvgNumberItems12M, FullPriceWithCoupon12M, NumberOrdersWithCoupon12M]"
      ]
     },
     "execution_count": 46,
     "metadata": {},
     "output_type": "execute_result"
    }
   ],
   "source": [
    "val labelName = \"sum_profit\"\n",
    "val identifierName = \"customer_id\"\n",
    "val featureList = featuresAndLabels.drop(labelName,identifierName, \"label\").columns"
   ]
  },
  {
   "cell_type": "markdown",
   "metadata": {},
   "source": [
    "### Keep aside a random selection of data for testing / evaluation"
   ]
  },
  {
   "cell_type": "code",
   "execution_count": 12,
   "metadata": {},
   "outputs": [
    {
     "data": {
      "text/plain": [
       "trainAndTestData = Array([customer_id: string, SumProfit1M: double ... 37 more fields], [customer_id: string, SumProfit1M: double ... 37 more fields])\n",
       "trainingData = [customer_id: string, SumProfit1M: double ... 37 more fields]\n",
       "testingData = [customer_id: string, SumProfit1M: double ... 37 more fields]\n"
      ]
     },
     "metadata": {},
     "output_type": "display_data"
    },
    {
     "data": {
      "text/plain": [
       "[customer_id: string, SumProfit1M: double ... 37 more fields]"
      ]
     },
     "execution_count": 12,
     "metadata": {},
     "output_type": "execute_result"
    }
   ],
   "source": [
    "val trainAndTestData = featuresAndLabels\n",
    "                        .withColumn(\"label\", col(labelName))\n",
    "                        .randomSplit(Array(0.8, 0.2))\n",
    "\n",
    "val (trainingData, testingData) = (trainAndTestData.apply(0), trainAndTestData.apply(1))"
   ]
  },
  {
   "cell_type": "markdown",
   "metadata": {},
   "source": [
    "### More Feature Grunt Work ... \n",
    "https://spark.apache.org/docs/latest/ml-features.html"
   ]
  },
  {
   "cell_type": "code",
   "execution_count": 13,
   "metadata": {},
   "outputs": [
    {
     "data": {
      "text/plain": [
       "assembler = vecAssembler_5d110a930870\n"
      ]
     },
     "metadata": {},
     "output_type": "display_data"
    },
    {
     "data": {
      "text/plain": [
       "vecAssembler_5d110a930870"
      ]
     },
     "execution_count": 13,
     "metadata": {},
     "output_type": "execute_result"
    }
   ],
   "source": [
    "val assembler = new VectorAssembler()\n",
    "                    .setInputCols(featureList)\n",
    "                    .setOutputCol(\"features\")"
   ]
  },
  {
   "cell_type": "code",
   "execution_count": 14,
   "metadata": {},
   "outputs": [
    {
     "data": {
      "text/plain": [
       "scaler = stdScal_00bb4d6c59a7\n"
      ]
     },
     "metadata": {},
     "output_type": "display_data"
    },
    {
     "data": {
      "text/plain": [
       "stdScal_00bb4d6c59a7"
      ]
     },
     "execution_count": 14,
     "metadata": {},
     "output_type": "execute_result"
    }
   ],
   "source": [
    "val scaler = new StandardScaler()\n",
    "                .setInputCol(\"features\")\n",
    "                .setOutputCol(\"scaledFeatures\")\n",
    "                .setWithStd(true)\n",
    "                .setWithMean(true)"
   ]
  },
  {
   "cell_type": "markdown",
   "metadata": {},
   "source": [
    "### Train a Regression Model \n",
    "### Search for best parameter values with grid search via cross validation"
   ]
  },
  {
   "cell_type": "code",
   "execution_count": 48,
   "metadata": {},
   "outputs": [
    {
     "data": {
      "text/plain": [
       "lr = linReg_eb7370b1f1db\n",
       "paramGrid = \n",
       "pipeline = pipeline_4eecc08ecc63\n",
       "evaluator = regEval_12dea5d6496f\n"
      ]
     },
     "metadata": {},
     "output_type": "display_data"
    },
    {
     "data": {
      "text/plain": [
       "Array({\n",
       "\tlinReg_eb7370b1f1db-elasticNetParam: 0.0,\n",
       "\tlinReg_eb7370b1f1db-regParam: 0.1\n",
       "}, {\n",
       "\tlinReg_eb7370b1f1db-elasticNetParam: 0.5,\n",
       "\tlinReg_eb7370b1f1db-regParam: 0.1\n",
       "}, {\n",
       "\tlinReg_eb7370b1f1db-elasticNetParam: 1.0,\n",
       "\tlinReg_eb7370b1f1db-regParam: 0.1\n",
       "}, {\n",
       "\tlinReg_eb7370b1f1db-elasticNetParam: 0.0,\n",
       "\tlinReg_eb7370b1f1db-regParam: 0.01\n",
       "}, {\n",
       "\tlinReg_eb7370b1f1db-elasticNetParam: 0.5,\n",
       "\tlinReg_eb7370b1f1db-regParam: 0.01\n",
       "}, {\n",
       "\tlinReg_eb7370b1f1db-elasticNetParam: 1.0,\n",
       "\tlinReg_eb7370b1f1db-regParam: 0.01\n",
       "})\n",
       "cv: org.apach...\n"
      ]
     },
     "metadata": {},
     "output_type": "display_data"
    },
    {
     "data": {
      "text/plain": [
       "regEval_12dea5d6496f"
      ]
     },
     "execution_count": 48,
     "metadata": {},
     "output_type": "execute_result"
    }
   ],
   "source": [
    "val lr = new LinearRegression()\n",
    "      .setFitIntercept(true)\n",
    "      .setFeaturesCol(\"scaledFeatures\")\n",
    "      .setTol(1e-6)\n",
    "\n",
    "//val rf = new RandomForestRegressor().setLabelCol(\"label\").setFeaturesCol(\"indexedFeatures\")\n",
    "\n",
    "val paramGrid = new ParamGridBuilder()\n",
    "  .addGrid(lr.regParam, Array(0.1, 0.01))\n",
    "  .addGrid(lr.elasticNetParam, Array(0.0, 0.5, 1.0))\n",
    "  .build()\n",
    "\n",
    "//val paramGrid = new ParamGridBuilder().addGrid(rf.numTrees, Array(100.0,500.0,1000.0)).addGrid(rf.maxDepth(10.0,50.0)).build()\n",
    "\n",
    "val pipeline = new Pipeline().setStages(Array(assembler, scaler, lr))\n",
    "\n",
    "val evaluator = new RegressionEvaluator()\n",
    "      .setLabelCol(\"label\")\n",
    "      .setPredictionCol(\"prediction\")\n",
    "      .setMetricName(\"rmse\")\n",
    "\n",
    "val cv = new CrossValidator()\n",
    "      .setEstimator(pipeline)\n",
    "      .setEvaluator(evaluator)\n",
    "      .setEstimatorParamMaps(paramGrid)\n",
    "      .setNumFolds(3)"
   ]
  },
  {
   "cell_type": "code",
   "execution_count": 16,
   "metadata": {},
   "outputs": [
    {
     "name": "stdout",
     "output_type": "stream",
     "text": [
      "[Stage 474:===================================================> (196 + 4) / 200]"
     ]
    },
    {
     "data": {
      "text/plain": [
       "cv_5090eb6e4f0a"
      ]
     },
     "execution_count": 16,
     "metadata": {},
     "output_type": "execute_result"
    }
   ],
   "source": [
    "cv.fit(trainingData)"
   ]
  },
  {
   "cell_type": "code",
   "execution_count": 49,
   "metadata": {},
   "outputs": [
    {
     "name": "stdout",
     "output_type": "stream",
     "text": [
      "[Stage 1542:==================================================> (195 + 4) / 200]"
     ]
    },
    {
     "data": {
      "text/plain": [
       "cvModel = cv_bbfccf5418af\n"
      ]
     },
     "metadata": {},
     "output_type": "display_data"
    },
    {
     "data": {
      "text/plain": [
       "cv_bbfccf5418af"
      ]
     },
     "execution_count": 49,
     "metadata": {},
     "output_type": "execute_result"
    }
   ],
   "source": [
    "val cvModel: CrossValidatorModel = cv.fit(trainingData.sample(true, 0.1))"
   ]
  },
  {
   "cell_type": "code",
   "execution_count": 50,
   "metadata": {},
   "outputs": [
    {
     "data": {
      "text/plain": [
       "bestModel = pipeline_4eecc08ecc63\n"
      ]
     },
     "metadata": {},
     "output_type": "display_data"
    },
    {
     "data": {
      "text/plain": [
       "pipeline_4eecc08ecc63"
      ]
     },
     "execution_count": 50,
     "metadata": {},
     "output_type": "execute_result"
    }
   ],
   "source": [
    "val bestModel = cvModel.bestModel.asInstanceOf[PipelineModel]"
   ]
  },
  {
   "cell_type": "markdown",
   "metadata": {},
   "source": [
    "## Evaluate Model with Testing Data"
   ]
  },
  {
   "cell_type": "code",
   "execution_count": 51,
   "metadata": {},
   "outputs": [
    {
     "data": {
      "text/plain": [
       "testingDataWithPredictions = [customer_id: string, SumProfit1M: double ... 40 more fields]\n"
      ]
     },
     "metadata": {},
     "output_type": "display_data"
    },
    {
     "data": {
      "text/plain": [
       "[customer_id: string, SumProfit1M: double ... 40 more fields]"
      ]
     },
     "execution_count": 51,
     "metadata": {},
     "output_type": "execute_result"
    }
   ],
   "source": [
    "val testingDataWithPredictions = bestModel.transform(testingData)"
   ]
  },
  {
   "cell_type": "code",
   "execution_count": 24,
   "metadata": {},
   "outputs": [
    {
     "name": "stdout",
     "output_type": "stream",
     "text": [
      "[Stage 1048:==================================================> (195 + 4) / 200]"
     ]
    },
    {
     "data": {
      "text/plain": [
       "rmse = 0.39791193197135727\n"
      ]
     },
     "metadata": {},
     "output_type": "display_data"
    },
    {
     "data": {
      "text/plain": [
       "0.39791193197135727"
      ]
     },
     "execution_count": 24,
     "metadata": {},
     "output_type": "execute_result"
    }
   ],
   "source": [
    "val evaluator = new RegressionEvaluator()\n",
    "      .setLabelCol(\"label\")\n",
    "      .setPredictionCol(\"prediction\")\n",
    "      .setMetricName(\"rmse\")\n",
    "\n",
    "val rmse = evaluator.evaluate(testingDataWithPredictions)"
   ]
  },
  {
   "cell_type": "code",
   "execution_count": 52,
   "metadata": {},
   "outputs": [
    {
     "data": {
      "text/plain": [
       "lrModel = linReg_eb7370b1f1db\n"
      ]
     },
     "metadata": {},
     "output_type": "display_data"
    },
    {
     "data": {
      "text/plain": [
       "linReg_eb7370b1f1db"
      ]
     },
     "execution_count": 52,
     "metadata": {},
     "output_type": "execute_result"
    }
   ],
   "source": [
    "val lrModel = bestModel.stages(2).asInstanceOf[LinearRegressionModel]"
   ]
  },
  {
   "cell_type": "markdown",
   "metadata": {},
   "source": [
    "### Check the model convergence & loss function \n",
    "### Performance metrics on Training Dataset"
   ]
  },
  {
   "cell_type": "code",
   "execution_count": 54,
   "metadata": {},
   "outputs": [
    {
     "name": "stdout",
     "output_type": "stream",
     "text": [
      "numIterations: 28\n",
      "objectiveHistory: [0.49999999999999994,0.4983477426092327,0.49722523322619094,0.4970933541258635,0.4969322085177869,0.49691139432880715,0.49690856778646847,0.49688714675797224,0.4968804459065397,0.4968718311341217,0.4968710302411861,0.49687038198763855,0.4968695091093931,0.49686902451599535,0.4968683788670904,0.4968674846913278,0.4968671319333908,0.49686692914038916,0.4968667446210605,0.4968660546020295,0.49686561061699447,0.4968656097729217,0.4968656095005232,0.49686560939177343,0.49686560934688173,0.49686560933816515,0.4968656093367706,0.496865609336713]\n",
      "[Stage 1545:===================================================>(197 + 3) / 200]+--------------------+\n",
      "|           residuals|\n",
      "+--------------------+\n",
      "|-0.09435569679100243|\n",
      "|-0.09435569679100243|\n",
      "|-0.09435569679100243|\n",
      "|-0.09435569679100243|\n",
      "|-0.09435569679100243|\n",
      "|-0.09435569679100243|\n",
      "|  1.4256443032089976|\n",
      "|-0.09435569679100243|\n",
      "|-0.09435569679100243|\n",
      "|-0.09435569679100243|\n",
      "+--------------------+\n",
      "only showing top 10 rows\n",
      "\n",
      "RMSE: 0.31017642178130067\n",
      "r2: 0.008836665722128823\n"
     ]
    },
    {
     "data": {
      "text/plain": [
       "trainingSummary = org.apache.spark.ml.regression.LinearRegressionTrainingSummary@580abccd\n"
      ]
     },
     "metadata": {},
     "output_type": "display_data"
    },
    {
     "data": {
      "text/plain": [
       "org.apache.spark.ml.regression.LinearRegressionTrainingSummary@580abccd"
      ]
     },
     "execution_count": 54,
     "metadata": {},
     "output_type": "execute_result"
    }
   ],
   "source": [
    "val trainingSummary = lrModel.summary\n",
    "println(s\"numIterations: ${trainingSummary.totalIterations}\")\n",
    "println(s\"objectiveHistory: [${trainingSummary.objectiveHistory.mkString(\",\")}]\")\n",
    "trainingSummary.residuals.show(10)\n",
    "println(s\"RMSE: ${trainingSummary.rootMeanSquaredError}\")\n",
    "println(s\"r2: ${trainingSummary.r2}\")\n",
    "//trainingSummary.pValues  // available when WLS optimization used "
   ]
  },
  {
   "cell_type": "code",
   "execution_count": 55,
   "metadata": {},
   "outputs": [
    {
     "data": {
      "text/plain": [
       "coefficients = [0.0,0.0,0.0,0.0,0.0,0.0,0.0,0.0,0.0,0.0,0.0,0.0,0.0,0.0,0.0,0.0,0.0,0.0,0.0,0.0,0.0,0.0,0.0,0.0,0.0,0.0,0.0,0.0,0.0,0.0,0.0,-0.00824990164504512,-0.008249901645045094,-0.0082499016450451,0.0,0.0]\n"
      ]
     },
     "metadata": {},
     "output_type": "display_data"
    },
    {
     "data": {
      "text/plain": [
       "[0.0,0.0,0.0,0.0,0.0,0.0,0.0,0.0,0.0,0.0,0.0,0.0,0.0,0.0,0.0,0.0,0.0,0.0,0.0,0.0,0.0,0.0,0.0,0.0,0.0,0.0,0.0,0.0,0.0,0.0,0.0,-0.00824990164504512,-0.008249901645045094,-0.0082499016450451,0.0,0.0]"
      ]
     },
     "execution_count": 55,
     "metadata": {},
     "output_type": "execute_result"
    }
   ],
   "source": [
    "val coefficients = lrModel.coefficients"
   ]
  },
  {
   "cell_type": "code",
   "execution_count": 56,
   "metadata": {},
   "outputs": [
    {
     "data": {
      "text/plain": [
       "intercept = 0.08583333333333332\n"
      ]
     },
     "metadata": {},
     "output_type": "display_data"
    },
    {
     "data": {
      "text/plain": [
       "0.08583333333333332"
      ]
     },
     "execution_count": 56,
     "metadata": {},
     "output_type": "execute_result"
    }
   ],
   "source": [
    "val intercept = lrModel.intercept"
   ]
  },
  {
   "cell_type": "code",
   "execution_count": 57,
   "metadata": {},
   "outputs": [
    {
     "data": {
      "text/plain": [
       "features = Array(SumProfit1M, AvgProfit1M, TotalSpendBeforeDiscount1M, TotalSpendBeforeCoupon1M, NumberOrders1M, NumberItems1M, AvgNumberItems1M, FullPriceWithCoupon1M, NumberOrdersWithCoupon1M, SumProfit3M, AvgProfit3M, TotalSpendBeforeDiscount3M, TotalSpendBeforeCoupon3M, NumberOrders3M, NumberItems3M, AvgNumberItems3M, FullPriceWithCoupon3M, NumberOrdersWithCoupon3M, SumProfit6M, AvgProfit6M, TotalSpendBeforeDiscount6M, TotalSpendBeforeCoupon6M, NumberOrders6M, NumberItems6M, AvgNumberItems6M, FullPriceWithCoupon6M, NumberOrdersWithCoupon6M, SumProfit12M, AvgProfit12M, TotalSpendBeforeDiscount12M, TotalSpendBeforeCoupon12M, NumberOrders12M, NumberItems12M, AvgNumberItems12M, FullPriceWithCoupon12M, NumberOrdersWithCoupon12M, intercept)\n"
      ]
     },
     "metadata": {},
     "output_type": "display_data"
    },
    {
     "data": {
      "text/plain": [
       "[SumProfit1M, AvgProfit1M, TotalSpendBeforeDiscount1M, TotalSpendBeforeCoupon1M, NumberOrders1M, NumberItems1M, AvgNumberItems1M, FullPriceWithCoupon1M, NumberOrdersWithCoupon1M, SumProfit3M, AvgProfit3M, TotalSpendBeforeDiscount3M, TotalSpendBeforeCoupon3M, NumberOrders3M, NumberItems3M, AvgNumberItems3M, FullPriceWithCoupon3M, NumberOrdersWithCoupon3M, SumProfit6M, AvgProfit6M, TotalSpendBeforeDiscount6M, TotalSpendBeforeCoupon6M, NumberOrders6M, NumberItems6M, AvgNumberItems6M, FullPriceWithCoupon6M, NumberOrdersWithCoupon6M, SumProfit12M, AvgProfit12M, TotalSpendBeforeDiscount12M, TotalSpendBeforeCoupon12M, NumberOrders12M, NumberItems12M, AvgNumberItems12M, FullPriceWithCoupon12M, NumberOrdersWithCoupon12M, intercept]"
      ]
     },
     "execution_count": 57,
     "metadata": {},
     "output_type": "execute_result"
    }
   ],
   "source": [
    "val features = trainingData.drop(\"sum_profit\", \"label\", \"customer_id\").columns ++  Array(\"intercept\")"
   ]
  },
  {
   "cell_type": "code",
   "execution_count": 58,
   "metadata": {},
   "outputs": [
    {
     "data": {
      "text/plain": [
       "coefficientsAndIntercept = Array(0.0, 0.0, 0.0, 0.0, 0.0, 0.0, 0.0, 0.0, 0.0, 0.0, 0.0, 0.0, 0.0, 0.0, 0.0, 0.0, 0.0, 0.0, 0.0, 0.0, 0.0, 0.0, 0.0, 0.0, 0.0, 0.0, 0.0, 0.0, 0.0, 0.0, 0.0, -0.00824990164504512, -0.008249901645045094, -0.0082499016450451, 0.0, 0.0, 0.08583333333333332)\n"
      ]
     },
     "metadata": {},
     "output_type": "display_data"
    },
    {
     "data": {
      "text/plain": [
       "[0.0, 0.0, 0.0, 0.0, 0.0, 0.0, 0.0, 0.0, 0.0, 0.0, 0.0, 0.0, 0.0, 0.0, 0.0, 0.0, 0.0, 0.0, 0.0, 0.0, 0.0, 0.0, 0.0, 0.0, 0.0, 0.0, 0.0, 0.0, 0.0, 0.0, 0.0, -0.00824990164504512, -0.008249901645045094, -0.0082499016450451, 0.0, 0.0, 0.08583333333333332]"
      ]
     },
     "execution_count": 58,
     "metadata": {},
     "output_type": "execute_result"
    }
   ],
   "source": [
    "import org.apache.spark.ml.linalg.DenseVector\n",
    "val coefficientsAndIntercept = coefficients.asInstanceOf[DenseVector].toArray ++ Array(intercept)"
   ]
  },
  {
   "cell_type": "code",
   "execution_count": 61,
   "metadata": {},
   "outputs": [
    {
     "data": {
      "text/plain": [
       "featuresAndCoefficients = Array((SumProfit1M,0.0), (AvgProfit1M,0.0), (TotalSpendBeforeDiscount1M,0.0), (TotalSpendBeforeCoupon1M,0.0), (NumberOrders1M,0.0), (NumberItems1M,0.0), (AvgNumberItems1M,0.0), (FullPriceWithCoupon1M,0.0), (NumberOrdersWithCoupon1M,0.0), (SumProfit3M,0.0), (AvgProfit3M,0.0), (TotalSpendBeforeDiscount3M,0.0), (TotalSpendBeforeCoupon3M,0.0), (NumberOrders3M,0.0), (NumberItems3M,0.0), (AvgNumberItems3M,0.0), (FullPriceWithCoupon3M,0.0), (NumberOrdersWithCoupon3M,0.0), (SumProfit6M,0.0), (AvgProfit6M,0.0), (TotalSpendBeforeDiscount6M,0.0), (TotalSpendBeforeCoupon6M,0.0), (NumberOrders6M,0.0), (NumberItems6M,0.0), (AvgNumberItems6M,0.0), (FullPriceWithCoupon6M,0.0), (NumberOrdersWithCoupon6M,0.0), (SumProfit12M,0.0), (AvgPr...\n"
      ]
     },
     "metadata": {},
     "output_type": "display_data"
    },
    {
     "data": {
      "text/plain": [
       "[(SumProfit1M,0.0), (AvgProfit1M,0.0), (TotalSpendBeforeDiscount1M,0.0), (TotalSpendBeforeCoupon1M,0.0), (NumberOrders1M,0.0), (NumberItems1M,0.0), (AvgNumberItems1M,0.0), (FullPriceWithCoupon1M,0.0), (NumberOrdersWithCoupon1M,0.0), (SumProfit3M,0.0), (AvgProfit3M,0.0), (TotalSpendBeforeDiscount3M,0.0), (TotalSpendBeforeCoupon3M,0.0), (NumberOrders3M,0.0), (NumberItems3M,0.0), (AvgNumberItems3M,0.0), (FullPriceWithCoupon3M,0.0), (NumberOrdersWithCoupon3M,0.0), (SumProfit6M,0.0), (AvgProfit6M,0.0), (TotalSpendBeforeDiscount6M,0.0), (TotalSpendBeforeCoupon6M,0.0), (NumberOrders6M,0.0), (NumberItems6M,0.0), (AvgNumberItems6M,0.0), (FullPriceWithCoupon6M,0.0), (NumberOrdersWithCoupon6M,0.0), (SumProfit12M,0.0), (AvgProfit12M,0.0), (TotalSpendBeforeDiscount12M,0.0), (TotalSpendBeforeCoupon12M,0.0), (NumberOrders12M,-0.00824990164504512), (NumberItems12M,-0.008249901645045094), (AvgNumberItems12M,-0.0082499016450451), (FullPriceWithCoupon12M,0.0), (NumberOrdersWithCoupon12M,0.0), (intercept,0.08583333333333332)]"
      ]
     },
     "execution_count": 61,
     "metadata": {},
     "output_type": "execute_result"
    }
   ],
   "source": [
    "import scala.math\n",
    "val featuresAndCoefficients  = features zip coefficientsAndIntercept "
   ]
  },
  {
   "cell_type": "code",
   "execution_count": 67,
   "metadata": {},
   "outputs": [
    {
     "name": "stdout",
     "output_type": "stream",
     "text": [
      "intercept \t\t\t  0.08583333333333332\n",
      "NumberOrders12M \t\t\t  -0.00824990164504512\n",
      "AvgNumberItems12M \t\t\t  -0.0082499016450451\n",
      "NumberItems12M \t\t\t  -0.008249901645045094\n",
      "SumProfit1M \t\t\t  0.0\n",
      "AvgProfit1M \t\t\t  0.0\n",
      "TotalSpendBeforeDiscount1M \t\t\t  0.0\n",
      "TotalSpendBeforeCoupon1M \t\t\t  0.0\n",
      "NumberOrders1M \t\t\t  0.0\n",
      "NumberItems1M \t\t\t  0.0\n",
      "AvgNumberItems1M \t\t\t  0.0\n",
      "FullPriceWithCoupon1M \t\t\t  0.0\n",
      "NumberOrdersWithCoupon1M \t\t\t  0.0\n",
      "SumProfit3M \t\t\t  0.0\n",
      "AvgProfit3M \t\t\t  0.0\n",
      "TotalSpendBeforeDiscount3M \t\t\t  0.0\n",
      "TotalSpendBeforeCoupon3M \t\t\t  0.0\n",
      "NumberOrders3M \t\t\t  0.0\n",
      "NumberItems3M \t\t\t  0.0\n",
      "AvgNumberItems3M \t\t\t  0.0\n",
      "FullPriceWithCoupon3M \t\t\t  0.0\n",
      "NumberOrdersWithCoupon3M \t\t\t  0.0\n",
      "SumProfit6M \t\t\t  0.0\n",
      "AvgProfit6M \t\t\t  0.0\n",
      "TotalSpendBeforeDiscount6M \t\t\t  0.0\n",
      "TotalSpendBeforeCoupon6M \t\t\t  0.0\n",
      "NumberOrders6M \t\t\t  0.0\n",
      "NumberItems6M \t\t\t  0.0\n",
      "AvgNumberItems6M \t\t\t  0.0\n",
      "FullPriceWithCoupon6M \t\t\t  0.0\n",
      "NumberOrdersWithCoupon6M \t\t\t  0.0\n",
      "SumProfit12M \t\t\t  0.0\n",
      "AvgProfit12M \t\t\t  0.0\n",
      "TotalSpendBeforeDiscount12M \t\t\t  0.0\n",
      "TotalSpendBeforeCoupon12M \t\t\t  0.0\n",
      "FullPriceWithCoupon12M \t\t\t  0.0\n",
      "NumberOrdersWithCoupon12M \t\t\t  0.0\n"
     ]
    }
   ],
   "source": [
    "featuresAndCoefficients.sortBy{x=> -math.abs(x._2)}.foreach{ x => println(s\"${x._1} \\t\\t\\t  ${x._2}\") }"
   ]
  },
  {
   "cell_type": "markdown",
   "metadata": {},
   "source": [
    "### Great for end to end Production Machine Learning Systems\n",
    "### Great for big data \n",
    "### No so great for tinkering : limited options for data visualisation  (R, python better)\n",
    "### Limited statistical packages (R, python better)"
   ]
  },
  {
   "cell_type": "code",
   "execution_count": null,
   "metadata": {},
   "outputs": [],
   "source": []
  }
 ],
 "metadata": {
  "kernelspec": {
   "display_name": "Apache Toree - Scala",
   "language": "scala",
   "name": "apache_toree_scala"
  },
  "language_info": {
   "codemirror_mode": "text/x-scala",
   "file_extension": ".scala",
   "mimetype": "text/x-scala",
   "name": "scala",
   "pygments_lexer": "scala",
   "version": "2.11.8"
  }
 },
 "nbformat": 4,
 "nbformat_minor": 2
}
